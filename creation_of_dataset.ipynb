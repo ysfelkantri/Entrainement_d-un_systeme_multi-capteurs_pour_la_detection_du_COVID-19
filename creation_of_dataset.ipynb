{
 "cells": [
  {
   "cell_type": "markdown",
   "metadata": {},
   "source": [
    "En attendant la data-set réelle on a generer en une artificielle avec 25000 chantillons et 3 colonnes(temperature, toux, rythme_respiratoire), \n",
    "* _temperature_ : une valeur aleatoire de type réel dans l'interval [36.1,40] \n",
    "* _toux_ : une valeur aléatoire Booléenne (1 : pour la présence du toux ) \n",
    "* _rythme respiratoire_ : une valeur aleatoire de type réel dans l'interval [18,30]  \n",
    "\n",
    "Pour la generation de la sortie(target) de chaque ligne on a suit une logique bien determinée; lorsqu'on a deux symptomes qui sont présentes à la fois dans le corps d'une personnes on declare que celle-ci a le Covid-19 \n",
    "les 3 symptomes sont : \n",
    "* _**temperature > 37.5 °C**_\n",
    "* _**tous = 1**_\n",
    "* _**rythme respiratoire > 25 respiration/min**_"
   ]
  },
  {
   "cell_type": "code",
   "execution_count": 2,
   "metadata": {
    "colab": {},
    "colab_type": "code",
    "id": "hfB_CF3D8EtO"
   },
   "outputs": [],
   "source": [
    "import random"
   ]
  },
  {
   "cell_type": "code",
   "execution_count": 3,
   "metadata": {
    "colab": {},
    "colab_type": "code",
    "id": "UCBAAPiA8eIR"
   },
   "outputs": [],
   "source": [
    "symptoms = []\n",
    "results = []\n",
    "for i in range(0, 25000):\n",
    "    # generating some random data \n",
    "    #generate 36.1 < temperature < 40\n",
    "    temperature = random.uniform(36.1, 40)\n",
    "    #generate toux = 1 or 0\n",
    "    toux = random.choice([0, 1])\n",
    "    #generate 36.1 < rythme respiratoire < 40\n",
    "    rythme_respiratoire = random.uniform(18, 30)\n",
    "    # initialise tested positive variable by 0 \n",
    "    tested_positive = 0\n",
    "    # conditions :\n",
    "    if temperature > 37.5:\n",
    "        if toux or (rythme_respiratoire > 25):\n",
    "            tested_positive = 1\n",
    "    elif toux and rythme_respiratoire > 25:\n",
    "        tested_positive = 1\n",
    "    #adding features (X_values) to dataset \n",
    "    symptoms.append([temperature, toux, rythme_respiratoire])\n",
    "    #adding target (Y_values) to dataset\n",
    "    results.append(tested_positive) "
   ]
  },
  {
   "cell_type": "markdown",
   "metadata": {},
   "source": [
    "verification des valeurs de la data-set :"
   ]
  },
  {
   "cell_type": "code",
   "execution_count": 4,
   "metadata": {
    "colab": {
     "base_uri": "https://localhost:8080/",
     "height": 1000
    },
    "colab_type": "code",
    "id": "CF0EcpGM93WM",
    "outputId": "b0f0101b-5afb-4ed0-fc4d-7687c2a3d45a"
   },
   "outputs": [
    {
     "name": "stdout",
     "output_type": "stream",
     "text": [
      "38.34034716215434,0,24.632550486756223,0\n",
      "37.87383112962509,0,19.40223163368522,0\n",
      "39.32351309976807,1,25.083945995405372,1\n",
      "37.312460634903424,1,23.507115281752355,0\n",
      "37.60535027418449,1,18.879043711382568,1\n"
     ]
    }
   ],
   "source": [
    "#check dataset \n",
    "#for i in range(0, len(symptoms)):\n",
    "for i in range(0, 5):\n",
    "  print(\"{},{},{},{}\".format(symptoms[i][0],\n",
    "                             symptoms[i][1],\n",
    "                             symptoms[i][2],\n",
    "                             results[i]))"
   ]
  },
  {
   "cell_type": "markdown",
   "metadata": {},
   "source": [
    "la forme la plus simple pour stocker les donnee est la forme CSV puisque La fonction principale des fichiers CSV est de permettre la portabilité des données tabulaires d’un programme à l’autre (on va l'utiliser dans le programme de creation des modèles)"
   ]
  },
  {
   "cell_type": "code",
   "execution_count": 5,
   "metadata": {
    "colab": {},
    "colab_type": "code",
    "id": "XLdjeeET8fG0"
   },
   "outputs": [],
   "source": [
    "#convert dataset to a csv file : \"dataset.csv\"\n",
    "import csv\n",
    "#add features list to csv file \n",
    "with open(\"dataset.csv\", \"w\", newline=\"\") as f:\n",
    "    writer = csv.writer(f)\n",
    "    writer.writerow(['temperature',\n",
    "                     'toux',\n",
    "                     'rythme respiratoire'])\n",
    "    writer.writerows(symptoms)"
   ]
  },
  {
   "cell_type": "code",
   "execution_count": 6,
   "metadata": {
    "colab": {},
    "colab_type": "code",
    "id": "e8v42XiD8qC6"
   },
   "outputs": [],
   "source": [
    "import pandas as pd\n",
    "#add target list to csv file \n",
    "df = pd.read_csv(\"dataset.csv\")\n",
    "df[\"target\"] = results \n",
    "df.to_csv(\"dataset.csv\", index=False)\n"
   ]
  },
  {
   "cell_type": "markdown",
   "metadata": {},
   "source": [
    "affichage de la data-set générée :"
   ]
  },
  {
   "cell_type": "code",
   "execution_count": 7,
   "metadata": {
    "colab": {
     "base_uri": "https://localhost:8080/",
     "height": 255
    },
    "colab_type": "code",
    "id": "R8jKh1c1-McL",
    "outputId": "fd2fee57-0bad-4935-db22-c0a8f1c7b3d7"
   },
   "outputs": [
    {
     "name": "stdout",
     "output_type": "stream",
     "text": [
      "       temperature  toux  rythme respiratoire  target\n",
      "0        38.340347     0            24.632550       0\n",
      "1        37.873831     0            19.402232       0\n",
      "2        39.323513     1            25.083946       1\n",
      "3        37.312461     1            23.507115       0\n",
      "4        37.605350     1            18.879044       1\n",
      "5        39.467000     0            20.654400       0\n",
      "6        38.762410     0            26.672363       1\n",
      "7        38.138864     1            22.637751       1\n",
      "8        36.133977     0            29.222709       0\n",
      "9        37.473241     1            21.635431       0\n",
      "10       39.094175     1            18.758283       1\n",
      "11       39.309816     1            23.391463       1\n",
      "12       38.021440     0            23.971838       0\n",
      "13       39.770998     0            20.518829       0\n",
      "14       38.359025     0            27.434461       1\n",
      "15       38.500163     1            29.528288       1\n",
      "16       37.424009     1            29.972855       1\n",
      "17       38.265235     0            23.332563       0\n",
      "18       36.413651     1            23.385560       0\n",
      "19       38.667047     0            20.293605       0\n",
      "20       36.957631     0            18.056544       0\n",
      "21       39.861852     0            28.886612       1\n",
      "22       37.050553     0            26.647595       0\n",
      "23       37.583853     0            28.216926       1\n",
      "24       37.250762     1            26.974979       1\n",
      "25       36.472208     1            27.125635       1\n",
      "26       39.794067     0            18.899839       0\n",
      "27       36.786803     0            28.701593       0\n",
      "28       38.864184     1            21.709019       1\n",
      "29       39.100212     0            27.093531       1\n",
      "...            ...   ...                  ...     ...\n",
      "24970    37.238424     1            27.570706       1\n",
      "24971    37.937775     0            21.207500       0\n",
      "24972    37.236258     0            26.075375       0\n",
      "24973    36.956733     1            25.411051       1\n",
      "24974    38.937005     1            23.887626       1\n",
      "24975    38.046427     1            20.705477       1\n",
      "24976    38.357728     1            27.229129       1\n",
      "24977    39.222636     0            28.167050       1\n",
      "24978    36.971066     0            24.357068       0\n",
      "24979    36.447164     1            27.720548       1\n",
      "24980    38.471129     1            26.777855       1\n",
      "24981    39.785112     1            19.601372       1\n",
      "24982    37.278971     0            23.911918       0\n",
      "24983    37.201545     1            19.144696       0\n",
      "24984    38.665945     0            27.251701       1\n",
      "24985    38.132004     1            29.254898       1\n",
      "24986    39.460932     0            23.475217       0\n",
      "24987    36.759540     1            21.050197       0\n",
      "24988    36.311838     0            29.034118       0\n",
      "24989    36.336869     1            21.606784       0\n",
      "24990    36.865084     1            28.317075       1\n",
      "24991    37.435315     1            24.784504       0\n",
      "24992    39.758472     1            20.574149       1\n",
      "24993    37.902057     0            29.782288       1\n",
      "24994    38.976040     1            23.012267       1\n",
      "24995    36.520314     0            23.334001       0\n",
      "24996    36.551838     0            28.743914       0\n",
      "24997    36.642622     0            24.861501       0\n",
      "24998    38.017509     1            20.495668       1\n",
      "24999    39.271873     0            23.505268       0\n",
      "\n",
      "[25000 rows x 4 columns]\n"
     ]
    }
   ],
   "source": [
    "print(pd.read_csv(\"dataset.csv\"))"
   ]
  }
 ],
 "metadata": {
  "colab": {
   "collapsed_sections": [],
   "name": "creation_of_dataset.ipynb",
   "provenance": []
  },
  "kernelspec": {
   "display_name": "Python 3",
   "language": "python",
   "name": "python3"
  },
  "language_info": {
   "codemirror_mode": {
    "name": "ipython",
    "version": 3
   },
   "file_extension": ".py",
   "mimetype": "text/x-python",
   "name": "python",
   "nbconvert_exporter": "python",
   "pygments_lexer": "ipython3",
   "version": "3.6.3"
  }
 },
 "nbformat": 4,
 "nbformat_minor": 2
}
