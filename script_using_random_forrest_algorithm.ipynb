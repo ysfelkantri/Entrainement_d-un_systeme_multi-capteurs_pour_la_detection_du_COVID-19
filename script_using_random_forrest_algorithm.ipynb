{
 "cells": [
  {
   "cell_type": "code",
   "execution_count": 43,
   "metadata": {
    "colab": {},
    "colab_type": "code",
    "id": "Flr4k0u1dR_d"
   },
   "outputs": [],
   "source": [
    "#import libraries \n",
    "from sklearn.model_selection import train_test_split \n",
    "from sklearn import metrics"
   ]
  },
  {
   "cell_type": "code",
   "execution_count": 44,
   "metadata": {
    "colab": {
     "base_uri": "https://localhost:8080/",
     "height": 255
    },
    "colab_type": "code",
    "id": "GWaD1kkXnyV7",
    "outputId": "a6c4d80d-ab5e-4513-9e09-94cc8a4cba89"
   },
   "outputs": [
    {
     "name": "stdout",
     "output_type": "stream",
     "text": [
      "       temperature  toux  rythme respiratoire\n",
      "0        38.909697     0            25.622143\n",
      "1        38.501598     0            27.080123\n",
      "2        36.262807     1            21.746695\n",
      "3        36.432818     0            19.021566\n",
      "4        39.146504     1            23.887650\n",
      "...            ...   ...                  ...\n",
      "24995    38.113612     1            28.226925\n",
      "24996    36.948299     1            18.326012\n",
      "24997    36.640686     0            19.775941\n",
      "24998    38.723000     1            24.836507\n",
      "24999    37.556375     1            28.816488\n",
      "\n",
      "[25000 rows x 3 columns]\n"
     ]
    }
   ],
   "source": [
    "#extract dataset as pandas dataframe \n",
    "import pandas as pd\n",
    "cols_list = ['temperature', 'toux', 'rythme respiratoire']\n",
    "symptoms = pd.read_csv ('dataset.csv', usecols=cols_list) \n",
    "results = pd.read_csv ('dataset.csv', usecols=['target'])\n",
    "print(symptoms) "
   ]
  },
  {
   "cell_type": "code",
   "execution_count": 45,
   "metadata": {
    "colab": {},
    "colab_type": "code",
    "id": "07ByRSgPdR_p"
   },
   "outputs": [],
   "source": [
    "# splitting dataset , 80% for training and 20% for test\n",
    "X_train, X_test, y_train, y_test = train_test_split(symptoms.values.tolist(), results.values.tolist(), test_size=0.2,random_state=20) "
   ]
  },
  {
   "cell_type": "code",
   "execution_count": 46,
   "metadata": {
    "colab": {
     "base_uri": "https://localhost:8080/",
     "height": 419
    },
    "colab_type": "code",
    "id": "kbnIV-Nvlsra",
    "outputId": "a8007268-f5e7-4493-a343-0607aadad9b3"
   },
   "outputs": [
    {
     "data": {
      "text/html": [
       "<div>\n",
       "<style scoped>\n",
       "    .dataframe tbody tr th:only-of-type {\n",
       "        vertical-align: middle;\n",
       "    }\n",
       "\n",
       "    .dataframe tbody tr th {\n",
       "        vertical-align: top;\n",
       "    }\n",
       "\n",
       "    .dataframe thead th {\n",
       "        text-align: right;\n",
       "    }\n",
       "</style>\n",
       "<table border=\"1\" class=\"dataframe\">\n",
       "  <thead>\n",
       "    <tr style=\"text-align: right;\">\n",
       "      <th></th>\n",
       "      <th>0</th>\n",
       "      <th>1</th>\n",
       "      <th>2</th>\n",
       "    </tr>\n",
       "  </thead>\n",
       "  <tbody>\n",
       "    <tr>\n",
       "      <th>0</th>\n",
       "      <td>0.252834</td>\n",
       "      <td>0.0</td>\n",
       "      <td>0.452785</td>\n",
       "    </tr>\n",
       "    <tr>\n",
       "      <th>1</th>\n",
       "      <td>0.365551</td>\n",
       "      <td>1.0</td>\n",
       "      <td>0.719840</td>\n",
       "    </tr>\n",
       "    <tr>\n",
       "      <th>2</th>\n",
       "      <td>0.975454</td>\n",
       "      <td>1.0</td>\n",
       "      <td>0.491346</td>\n",
       "    </tr>\n",
       "    <tr>\n",
       "      <th>3</th>\n",
       "      <td>0.133140</td>\n",
       "      <td>1.0</td>\n",
       "      <td>0.847429</td>\n",
       "    </tr>\n",
       "    <tr>\n",
       "      <th>4</th>\n",
       "      <td>0.368953</td>\n",
       "      <td>1.0</td>\n",
       "      <td>0.570953</td>\n",
       "    </tr>\n",
       "    <tr>\n",
       "      <th>...</th>\n",
       "      <td>...</td>\n",
       "      <td>...</td>\n",
       "      <td>...</td>\n",
       "    </tr>\n",
       "    <tr>\n",
       "      <th>19995</th>\n",
       "      <td>0.291160</td>\n",
       "      <td>1.0</td>\n",
       "      <td>0.973013</td>\n",
       "    </tr>\n",
       "    <tr>\n",
       "      <th>19996</th>\n",
       "      <td>0.416528</td>\n",
       "      <td>0.0</td>\n",
       "      <td>0.897462</td>\n",
       "    </tr>\n",
       "    <tr>\n",
       "      <th>19997</th>\n",
       "      <td>0.040713</td>\n",
       "      <td>0.0</td>\n",
       "      <td>0.797051</td>\n",
       "    </tr>\n",
       "    <tr>\n",
       "      <th>19998</th>\n",
       "      <td>0.651129</td>\n",
       "      <td>1.0</td>\n",
       "      <td>0.542628</td>\n",
       "    </tr>\n",
       "    <tr>\n",
       "      <th>19999</th>\n",
       "      <td>0.918873</td>\n",
       "      <td>0.0</td>\n",
       "      <td>0.487152</td>\n",
       "    </tr>\n",
       "  </tbody>\n",
       "</table>\n",
       "<p>20000 rows × 3 columns</p>\n",
       "</div>"
      ],
      "text/plain": [
       "              0    1         2\n",
       "0      0.252834  0.0  0.452785\n",
       "1      0.365551  1.0  0.719840\n",
       "2      0.975454  1.0  0.491346\n",
       "3      0.133140  1.0  0.847429\n",
       "4      0.368953  1.0  0.570953\n",
       "...         ...  ...       ...\n",
       "19995  0.291160  1.0  0.973013\n",
       "19996  0.416528  0.0  0.897462\n",
       "19997  0.040713  0.0  0.797051\n",
       "19998  0.651129  1.0  0.542628\n",
       "19999  0.918873  0.0  0.487152\n",
       "\n",
       "[20000 rows x 3 columns]"
      ]
     },
     "execution_count": 46,
     "metadata": {},
     "output_type": "execute_result"
    }
   ],
   "source": [
    "# normalisation of the dataset\n",
    "X_train_range = pd.DataFrame(X_train).max() - pd.DataFrame(X_train).min()\n",
    "X_train_range\n",
    "X_train_scaled = (pd.DataFrame(X_train) - pd.DataFrame(X_train).min())/(X_train_range)\n",
    "X_train_scaled"
   ]
  },
  {
   "cell_type": "code",
   "execution_count": 47,
   "metadata": {
    "colab": {},
    "colab_type": "code",
    "id": "Ld1q4pbmdR_t"
   },
   "outputs": [],
   "source": [
    "#Import Random Forest Model\n",
    "from sklearn.ensemble import RandomForestClassifier\n",
    "import numpy as np\n",
    "\n",
    "clf=RandomForestClassifier(n_estimators=100)"
   ]
  },
  {
   "cell_type": "code",
   "execution_count": 48,
   "metadata": {
    "colab": {
     "base_uri": "https://localhost:8080/",
     "height": 207
    },
    "colab_type": "code",
    "id": "JAiFjrN5dR_x",
    "outputId": "b0058a8c-9461-47f5-d97f-cf22917f5998"
   },
   "outputs": [
    {
     "data": {
      "text/plain": [
       "RandomForestClassifier(bootstrap=True, class_weight=None, criterion='gini',\n",
       "            max_depth=None, max_features='auto', max_leaf_nodes=None,\n",
       "            min_impurity_decrease=0.0, min_impurity_split=None,\n",
       "            min_samples_leaf=1, min_samples_split=2,\n",
       "            min_weight_fraction_leaf=0.0, n_estimators=100, n_jobs=None,\n",
       "            oob_score=False, random_state=None, verbose=0,\n",
       "            warm_start=False)"
      ]
     },
     "execution_count": 48,
     "metadata": {},
     "output_type": "execute_result"
    }
   ],
   "source": [
    "#Train the model using the training sets\n",
    "y_train = np.ravel(y_train)\n",
    "\n",
    "clf.fit(X_train_scaled, y_train)"
   ]
  },
  {
   "cell_type": "code",
   "execution_count": 49,
   "metadata": {
    "colab": {
     "base_uri": "https://localhost:8080/",
     "height": 419
    },
    "colab_type": "code",
    "id": "b-wW2bbcmW5v",
    "outputId": "78168458-9aa0-465a-f562-7d502d234b09"
   },
   "outputs": [
    {
     "data": {
      "text/html": [
       "<div>\n",
       "<style scoped>\n",
       "    .dataframe tbody tr th:only-of-type {\n",
       "        vertical-align: middle;\n",
       "    }\n",
       "\n",
       "    .dataframe tbody tr th {\n",
       "        vertical-align: top;\n",
       "    }\n",
       "\n",
       "    .dataframe thead th {\n",
       "        text-align: right;\n",
       "    }\n",
       "</style>\n",
       "<table border=\"1\" class=\"dataframe\">\n",
       "  <thead>\n",
       "    <tr style=\"text-align: right;\">\n",
       "      <th></th>\n",
       "      <th>0</th>\n",
       "      <th>1</th>\n",
       "      <th>2</th>\n",
       "    </tr>\n",
       "  </thead>\n",
       "  <tbody>\n",
       "    <tr>\n",
       "      <th>0</th>\n",
       "      <td>0.524939</td>\n",
       "      <td>1.0</td>\n",
       "      <td>0.265805</td>\n",
       "    </tr>\n",
       "    <tr>\n",
       "      <th>1</th>\n",
       "      <td>0.935205</td>\n",
       "      <td>0.0</td>\n",
       "      <td>0.045115</td>\n",
       "    </tr>\n",
       "    <tr>\n",
       "      <th>2</th>\n",
       "      <td>0.194249</td>\n",
       "      <td>1.0</td>\n",
       "      <td>0.997728</td>\n",
       "    </tr>\n",
       "    <tr>\n",
       "      <th>3</th>\n",
       "      <td>0.756674</td>\n",
       "      <td>1.0</td>\n",
       "      <td>0.817467</td>\n",
       "    </tr>\n",
       "    <tr>\n",
       "      <th>4</th>\n",
       "      <td>0.619889</td>\n",
       "      <td>1.0</td>\n",
       "      <td>0.799443</td>\n",
       "    </tr>\n",
       "    <tr>\n",
       "      <th>...</th>\n",
       "      <td>...</td>\n",
       "      <td>...</td>\n",
       "      <td>...</td>\n",
       "    </tr>\n",
       "    <tr>\n",
       "      <th>4995</th>\n",
       "      <td>0.342910</td>\n",
       "      <td>0.0</td>\n",
       "      <td>0.877641</td>\n",
       "    </tr>\n",
       "    <tr>\n",
       "      <th>4996</th>\n",
       "      <td>0.725470</td>\n",
       "      <td>0.0</td>\n",
       "      <td>0.018602</td>\n",
       "    </tr>\n",
       "    <tr>\n",
       "      <th>4997</th>\n",
       "      <td>0.811458</td>\n",
       "      <td>1.0</td>\n",
       "      <td>0.351342</td>\n",
       "    </tr>\n",
       "    <tr>\n",
       "      <th>4998</th>\n",
       "      <td>0.227126</td>\n",
       "      <td>1.0</td>\n",
       "      <td>0.887662</td>\n",
       "    </tr>\n",
       "    <tr>\n",
       "      <th>4999</th>\n",
       "      <td>0.559883</td>\n",
       "      <td>0.0</td>\n",
       "      <td>0.054177</td>\n",
       "    </tr>\n",
       "  </tbody>\n",
       "</table>\n",
       "<p>5000 rows × 3 columns</p>\n",
       "</div>"
      ],
      "text/plain": [
       "             0    1         2\n",
       "0     0.524939  1.0  0.265805\n",
       "1     0.935205  0.0  0.045115\n",
       "2     0.194249  1.0  0.997728\n",
       "3     0.756674  1.0  0.817467\n",
       "4     0.619889  1.0  0.799443\n",
       "...        ...  ...       ...\n",
       "4995  0.342910  0.0  0.877641\n",
       "4996  0.725470  0.0  0.018602\n",
       "4997  0.811458  1.0  0.351342\n",
       "4998  0.227126  1.0  0.887662\n",
       "4999  0.559883  0.0  0.054177\n",
       "\n",
       "[5000 rows x 3 columns]"
      ]
     },
     "execution_count": 49,
     "metadata": {},
     "output_type": "execute_result"
    }
   ],
   "source": [
    "# normalisation test dataset values \n",
    "X_test_range = (pd.DataFrame(X_test) - pd.DataFrame(X_test).min()).max()\n",
    "X_test_range\n",
    "X_test_scaled = (pd.DataFrame(X_test) - pd.DataFrame(X_test).min())/(X_test_range)\n",
    "X_test_scaled"
   ]
  },
  {
   "cell_type": "code",
   "execution_count": 50,
   "metadata": {
    "colab": {},
    "colab_type": "code",
    "id": "QvjC8eBsdR_0"
   },
   "outputs": [],
   "source": [
    "#Predict the response for test dataset\n",
    "y_pred = clf.predict(X_test_scaled)"
   ]
  },
  {
   "cell_type": "code",
   "execution_count": 51,
   "metadata": {
    "colab": {
     "base_uri": "https://localhost:8080/",
     "height": 34
    },
    "colab_type": "code",
    "id": "S3Mx7g5HdR_3",
    "outputId": "fdd87ca9-c4b6-4e15-f8b5-9d7bccdee9e2"
   },
   "outputs": [
    {
     "name": "stdout",
     "output_type": "stream",
     "text": [
      "Accuracy: 0.9994\n"
     ]
    }
   ],
   "source": [
    "#accuracy value :\n",
    "print(\"Accuracy:\",metrics.accuracy_score(y_test, y_pred))"
   ]
  },
  {
   "cell_type": "code",
   "execution_count": 52,
   "metadata": {
    "colab": {},
    "colab_type": "code",
    "id": "TgPLC3E6dR_6"
   },
   "outputs": [],
   "source": [
    "from sklearn.metrics import classification_report, confusion_matrix\n",
    "import numpy as np"
   ]
  },
  {
   "cell_type": "code",
   "execution_count": 53,
   "metadata": {
    "colab": {
     "base_uri": "https://localhost:8080/",
     "height": 111
    },
    "colab_type": "code",
    "id": "Ku2q56otiyaL",
    "outputId": "c25a3e82-2274-4b49-8dc6-745001414dc7"
   },
   "outputs": [
    {
     "data": {
      "text/html": [
       "<div>\n",
       "<style scoped>\n",
       "    .dataframe tbody tr th:only-of-type {\n",
       "        vertical-align: middle;\n",
       "    }\n",
       "\n",
       "    .dataframe tbody tr th {\n",
       "        vertical-align: top;\n",
       "    }\n",
       "\n",
       "    .dataframe thead th {\n",
       "        text-align: right;\n",
       "    }\n",
       "</style>\n",
       "<table border=\"1\" class=\"dataframe\">\n",
       "  <thead>\n",
       "    <tr style=\"text-align: right;\">\n",
       "      <th></th>\n",
       "      <th>predicted positive</th>\n",
       "      <th>predicted negative</th>\n",
       "    </tr>\n",
       "  </thead>\n",
       "  <tbody>\n",
       "    <tr>\n",
       "      <th>tested positive</th>\n",
       "      <td>2640</td>\n",
       "      <td>0</td>\n",
       "    </tr>\n",
       "    <tr>\n",
       "      <th>tested negative</th>\n",
       "      <td>3</td>\n",
       "      <td>2357</td>\n",
       "    </tr>\n",
       "  </tbody>\n",
       "</table>\n",
       "</div>"
      ],
      "text/plain": [
       "                 predicted positive  predicted negative\n",
       "tested positive                2640                   0\n",
       "tested negative                   3                2357"
      ]
     },
     "execution_count": 53,
     "metadata": {},
     "output_type": "execute_result"
    }
   ],
   "source": [
    "#confusion matrix :\n",
    "cm =np.array(confusion_matrix(y_test, y_pred, labels =[1,0]))\n",
    "confusion = pd.DataFrame(cm, index=['tested positive', 'tested negative'], columns=['predicted positive','predicted negative'])\n",
    "confusion "
   ]
  },
  {
   "cell_type": "code",
   "execution_count": 62,
   "metadata": {},
   "outputs": [
    {
     "name": "stdout",
     "output_type": "stream",
     "text": [
      "[1]\n"
     ]
    }
   ],
   "source": [
    "# test :\n",
    "temperature=40; toux=0; rythme_respiratoire=30\n",
    "\n",
    "\n",
    "y_pred = clf.predict([[temperature,toux,rythme_respiratoire],])\n",
    "print(y_pred)"
   ]
  },
  {
   "cell_type": "code",
   "execution_count": null,
   "metadata": {},
   "outputs": [],
   "source": []
  }
 ],
 "metadata": {
  "colab": {
   "collapsed_sections": [],
   "name": "Copy of stagte_update_final.ipynb",
   "provenance": []
  },
  "kernelspec": {
   "display_name": "Python 3",
   "language": "python",
   "name": "python3"
  },
  "language_info": {
   "codemirror_mode": {
    "name": "ipython",
    "version": 3
   },
   "file_extension": ".py",
   "mimetype": "text/x-python",
   "name": "python",
   "nbconvert_exporter": "python",
   "pygments_lexer": "ipython3",
   "version": "3.6.10"
  }
 },
 "nbformat": 4,
 "nbformat_minor": 1
}
