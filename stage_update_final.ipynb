{
  "nbformat": 4,
  "nbformat_minor": 0,
  "metadata": {
    "kernelspec": {
      "display_name": "Python 3",
      "language": "python",
      "name": "python3"
    },
    "language_info": {
      "codemirror_mode": {
        "name": "ipython",
        "version": 3
      },
      "file_extension": ".py",
      "mimetype": "text/x-python",
      "name": "python",
      "nbconvert_exporter": "python",
      "pygments_lexer": "ipython3",
      "version": "3.6.10"
    },
    "colab": {
      "name": "stagte_update_final.ipynb",
      "provenance": [],
      "collapsed_sections": []
    }
  },
  "cells": [
    {
      "cell_type": "code",
      "metadata": {
        "id": "Flr4k0u1dR_d",
        "colab_type": "code",
        "colab": {}
      },
      "source": [
        "from sklearn.model_selection import train_test_split \n",
        "from sklearn import svm\n",
        "from sklearn import metrics"
      ],
      "execution_count": 28,
      "outputs": []
    },
    {
      "cell_type": "code",
      "metadata": {
        "id": "GWaD1kkXnyV7",
        "colab_type": "code",
        "colab": {
          "base_uri": "https://localhost:8080/",
          "height": 255
        },
        "outputId": "fd3b8db3-be03-4f79-e1d2-e55eb7a74067"
      },
      "source": [
        "#extraction de la dataset comme panda dataframe \n",
        "import pandas as pd\n",
        "cols_list = ['temperature', 'tousse', 'rithme respiratoire']\n",
        "symptoms = pd.read_csv ('dataset.csv', usecols=cols_list)\n",
        "results = pd.read_csv ('dataset.csv', usecols=['target'])\n",
        "print(symptoms) "
      ],
      "execution_count": 29,
      "outputs": [
        {
          "output_type": "stream",
          "text": [
            "       temperature  tousse  rithme respiratoire\n",
            "0        37.631130       0            22.024291\n",
            "1        38.705825       0            21.183277\n",
            "2        36.441986       1            21.012742\n",
            "3        37.407250       1            21.048908\n",
            "4        36.800946       0            20.469250\n",
            "...            ...     ...                  ...\n",
            "24995    39.753427       0            19.887905\n",
            "24996    37.723581       1            19.151204\n",
            "24997    38.439078       1            18.763108\n",
            "24998    39.664804       1            20.949302\n",
            "24999    37.714519       0            19.167092\n",
            "\n",
            "[25000 rows x 3 columns]\n"
          ],
          "name": "stdout"
        }
      ]
    },
    {
      "cell_type": "code",
      "metadata": {
        "id": "07ByRSgPdR_p",
        "colab_type": "code",
        "colab": {}
      },
      "source": [
        "# 80% pour l'entrainement et 20% pour le test\n",
        "X_train, X_test, y_train, y_test = train_test_split(symptoms.values.tolist(), results.values.tolist(), test_size=0.2,random_state=20) "
      ],
      "execution_count": 37,
      "outputs": []
    },
    {
      "cell_type": "code",
      "metadata": {
        "id": "kbnIV-Nvlsra",
        "colab_type": "code",
        "colab": {
          "base_uri": "https://localhost:8080/",
          "height": 419
        },
        "outputId": "3712b7b9-652c-44c0-ea9b-415c8bc19894"
      },
      "source": [
        "# normalisation des valeurs des symptomes pour l'entrainement \n",
        "X_train_range = pd.DataFrame(X_train).max() - pd.DataFrame(X_train).min()\n",
        "X_train_range\n",
        "X_train_scaled = (pd.DataFrame(X_train) - pd.DataFrame(X_train).min())/(X_train_range)\n",
        "X_train_scaled"
      ],
      "execution_count": 38,
      "outputs": [
        {
          "output_type": "execute_result",
          "data": {
            "text/html": [
              "<div>\n",
              "<style scoped>\n",
              "    .dataframe tbody tr th:only-of-type {\n",
              "        vertical-align: middle;\n",
              "    }\n",
              "\n",
              "    .dataframe tbody tr th {\n",
              "        vertical-align: top;\n",
              "    }\n",
              "\n",
              "    .dataframe thead th {\n",
              "        text-align: right;\n",
              "    }\n",
              "</style>\n",
              "<table border=\"1\" class=\"dataframe\">\n",
              "  <thead>\n",
              "    <tr style=\"text-align: right;\">\n",
              "      <th></th>\n",
              "      <th>0</th>\n",
              "      <th>1</th>\n",
              "      <th>2</th>\n",
              "    </tr>\n",
              "  </thead>\n",
              "  <tbody>\n",
              "    <tr>\n",
              "      <th>0</th>\n",
              "      <td>0.008312</td>\n",
              "      <td>0.0</td>\n",
              "      <td>0.445829</td>\n",
              "    </tr>\n",
              "    <tr>\n",
              "      <th>1</th>\n",
              "      <td>0.200752</td>\n",
              "      <td>0.0</td>\n",
              "      <td>0.978067</td>\n",
              "    </tr>\n",
              "    <tr>\n",
              "      <th>2</th>\n",
              "      <td>0.497547</td>\n",
              "      <td>1.0</td>\n",
              "      <td>0.505182</td>\n",
              "    </tr>\n",
              "    <tr>\n",
              "      <th>3</th>\n",
              "      <td>0.144528</td>\n",
              "      <td>0.0</td>\n",
              "      <td>0.807797</td>\n",
              "    </tr>\n",
              "    <tr>\n",
              "      <th>4</th>\n",
              "      <td>0.446882</td>\n",
              "      <td>0.0</td>\n",
              "      <td>0.299976</td>\n",
              "    </tr>\n",
              "    <tr>\n",
              "      <th>...</th>\n",
              "      <td>...</td>\n",
              "      <td>...</td>\n",
              "      <td>...</td>\n",
              "    </tr>\n",
              "    <tr>\n",
              "      <th>19995</th>\n",
              "      <td>0.012053</td>\n",
              "      <td>0.0</td>\n",
              "      <td>0.756290</td>\n",
              "    </tr>\n",
              "    <tr>\n",
              "      <th>19996</th>\n",
              "      <td>0.628781</td>\n",
              "      <td>1.0</td>\n",
              "      <td>0.344090</td>\n",
              "    </tr>\n",
              "    <tr>\n",
              "      <th>19997</th>\n",
              "      <td>0.543493</td>\n",
              "      <td>1.0</td>\n",
              "      <td>0.963963</td>\n",
              "    </tr>\n",
              "    <tr>\n",
              "      <th>19998</th>\n",
              "      <td>0.136449</td>\n",
              "      <td>1.0</td>\n",
              "      <td>0.255386</td>\n",
              "    </tr>\n",
              "    <tr>\n",
              "      <th>19999</th>\n",
              "      <td>0.828415</td>\n",
              "      <td>1.0</td>\n",
              "      <td>0.369900</td>\n",
              "    </tr>\n",
              "  </tbody>\n",
              "</table>\n",
              "<p>20000 rows × 3 columns</p>\n",
              "</div>"
            ],
            "text/plain": [
              "              0    1         2\n",
              "0      0.008312  0.0  0.445829\n",
              "1      0.200752  0.0  0.978067\n",
              "2      0.497547  1.0  0.505182\n",
              "3      0.144528  0.0  0.807797\n",
              "4      0.446882  0.0  0.299976\n",
              "...         ...  ...       ...\n",
              "19995  0.012053  0.0  0.756290\n",
              "19996  0.628781  1.0  0.344090\n",
              "19997  0.543493  1.0  0.963963\n",
              "19998  0.136449  1.0  0.255386\n",
              "19999  0.828415  1.0  0.369900\n",
              "\n",
              "[20000 rows x 3 columns]"
            ]
          },
          "metadata": {
            "tags": []
          },
          "execution_count": 38
        }
      ]
    },
    {
      "cell_type": "code",
      "metadata": {
        "id": "Ld1q4pbmdR_t",
        "colab_type": "code",
        "colab": {}
      },
      "source": [
        "#Create a svm Classifier\n",
        "clf = svm.SVC(kernel=\"rbf\") # Linear Kernel"
      ],
      "execution_count": 39,
      "outputs": []
    },
    {
      "cell_type": "code",
      "metadata": {
        "id": "JAiFjrN5dR_x",
        "colab_type": "code",
        "colab": {
          "base_uri": "https://localhost:8080/",
          "height": 139
        },
        "outputId": "eb9942cb-3767-454a-d66e-69ac78bc178c"
      },
      "source": [
        "#Train the model using the training sets\n",
        "clf.fit(X_train_scaled, y_train)"
      ],
      "execution_count": 40,
      "outputs": [
        {
          "output_type": "stream",
          "text": [
            "/usr/local/lib/python3.6/dist-packages/sklearn/utils/validation.py:760: DataConversionWarning: A column-vector y was passed when a 1d array was expected. Please change the shape of y to (n_samples, ), for example using ravel().\n",
            "  y = column_or_1d(y, warn=True)\n"
          ],
          "name": "stderr"
        },
        {
          "output_type": "execute_result",
          "data": {
            "text/plain": [
              "SVC(C=1.0, break_ties=False, cache_size=200, class_weight=None, coef0=0.0,\n",
              "    decision_function_shape='ovr', degree=3, gamma='scale', kernel='rbf',\n",
              "    max_iter=-1, probability=False, random_state=None, shrinking=True,\n",
              "    tol=0.001, verbose=False)"
            ]
          },
          "metadata": {
            "tags": []
          },
          "execution_count": 40
        }
      ]
    },
    {
      "cell_type": "code",
      "metadata": {
        "id": "b-wW2bbcmW5v",
        "colab_type": "code",
        "colab": {
          "base_uri": "https://localhost:8080/",
          "height": 419
        },
        "outputId": "07d33910-b21f-4a98-b505-4c0fc4a179bc"
      },
      "source": [
        "# normalisation des valeurs des symptomes pour l'entrainement \n",
        "X_test_range = (pd.DataFrame(X_test) - pd.DataFrame(X_test).min()).max()\n",
        "X_test_range\n",
        "X_test_scaled = (pd.DataFrame(X_test) - pd.DataFrame(X_test).min())/(X_test_range)\n",
        "X_test_scaled"
      ],
      "execution_count": 41,
      "outputs": [
        {
          "output_type": "execute_result",
          "data": {
            "text/html": [
              "<div>\n",
              "<style scoped>\n",
              "    .dataframe tbody tr th:only-of-type {\n",
              "        vertical-align: middle;\n",
              "    }\n",
              "\n",
              "    .dataframe tbody tr th {\n",
              "        vertical-align: top;\n",
              "    }\n",
              "\n",
              "    .dataframe thead th {\n",
              "        text-align: right;\n",
              "    }\n",
              "</style>\n",
              "<table border=\"1\" class=\"dataframe\">\n",
              "  <thead>\n",
              "    <tr style=\"text-align: right;\">\n",
              "      <th></th>\n",
              "      <th>0</th>\n",
              "      <th>1</th>\n",
              "      <th>2</th>\n",
              "    </tr>\n",
              "  </thead>\n",
              "  <tbody>\n",
              "    <tr>\n",
              "      <th>0</th>\n",
              "      <td>0.427187</td>\n",
              "      <td>0.0</td>\n",
              "      <td>0.738370</td>\n",
              "    </tr>\n",
              "    <tr>\n",
              "      <th>1</th>\n",
              "      <td>0.231406</td>\n",
              "      <td>0.0</td>\n",
              "      <td>0.096421</td>\n",
              "    </tr>\n",
              "    <tr>\n",
              "      <th>2</th>\n",
              "      <td>0.754229</td>\n",
              "      <td>1.0</td>\n",
              "      <td>0.847780</td>\n",
              "    </tr>\n",
              "    <tr>\n",
              "      <th>3</th>\n",
              "      <td>0.201280</td>\n",
              "      <td>1.0</td>\n",
              "      <td>0.255696</td>\n",
              "    </tr>\n",
              "    <tr>\n",
              "      <th>4</th>\n",
              "      <td>0.947355</td>\n",
              "      <td>0.0</td>\n",
              "      <td>0.676532</td>\n",
              "    </tr>\n",
              "    <tr>\n",
              "      <th>...</th>\n",
              "      <td>...</td>\n",
              "      <td>...</td>\n",
              "      <td>...</td>\n",
              "    </tr>\n",
              "    <tr>\n",
              "      <th>4995</th>\n",
              "      <td>0.119357</td>\n",
              "      <td>0.0</td>\n",
              "      <td>0.862937</td>\n",
              "    </tr>\n",
              "    <tr>\n",
              "      <th>4996</th>\n",
              "      <td>0.901132</td>\n",
              "      <td>1.0</td>\n",
              "      <td>0.854161</td>\n",
              "    </tr>\n",
              "    <tr>\n",
              "      <th>4997</th>\n",
              "      <td>0.257916</td>\n",
              "      <td>1.0</td>\n",
              "      <td>0.605124</td>\n",
              "    </tr>\n",
              "    <tr>\n",
              "      <th>4998</th>\n",
              "      <td>0.383956</td>\n",
              "      <td>1.0</td>\n",
              "      <td>0.962097</td>\n",
              "    </tr>\n",
              "    <tr>\n",
              "      <th>4999</th>\n",
              "      <td>0.050134</td>\n",
              "      <td>1.0</td>\n",
              "      <td>0.127691</td>\n",
              "    </tr>\n",
              "  </tbody>\n",
              "</table>\n",
              "<p>5000 rows × 3 columns</p>\n",
              "</div>"
            ],
            "text/plain": [
              "             0    1         2\n",
              "0     0.427187  0.0  0.738370\n",
              "1     0.231406  0.0  0.096421\n",
              "2     0.754229  1.0  0.847780\n",
              "3     0.201280  1.0  0.255696\n",
              "4     0.947355  0.0  0.676532\n",
              "...        ...  ...       ...\n",
              "4995  0.119357  0.0  0.862937\n",
              "4996  0.901132  1.0  0.854161\n",
              "4997  0.257916  1.0  0.605124\n",
              "4998  0.383956  1.0  0.962097\n",
              "4999  0.050134  1.0  0.127691\n",
              "\n",
              "[5000 rows x 3 columns]"
            ]
          },
          "metadata": {
            "tags": []
          },
          "execution_count": 41
        }
      ]
    },
    {
      "cell_type": "code",
      "metadata": {
        "id": "QvjC8eBsdR_0",
        "colab_type": "code",
        "colab": {}
      },
      "source": [
        "#Predict the response for test dataset\n",
        "y_pred = clf.predict(X_test_scaled)"
      ],
      "execution_count": 42,
      "outputs": []
    },
    {
      "cell_type": "code",
      "metadata": {
        "id": "S3Mx7g5HdR_3",
        "colab_type": "code",
        "colab": {
          "base_uri": "https://localhost:8080/",
          "height": 34
        },
        "outputId": "5136fad6-3f60-45c3-e0b3-669bec944460"
      },
      "source": [
        "print(\"Accuracy:\",metrics.accuracy_score(y_test, y_pred))"
      ],
      "execution_count": 43,
      "outputs": [
        {
          "output_type": "stream",
          "text": [
            "Accuracy: 0.9892\n"
          ],
          "name": "stdout"
        }
      ]
    },
    {
      "cell_type": "code",
      "metadata": {
        "id": "TgPLC3E6dR_6",
        "colab_type": "code",
        "colab": {}
      },
      "source": [
        "from sklearn.metrics import classification_report, confusion_matrix\n",
        "import numpy as np"
      ],
      "execution_count": null,
      "outputs": []
    },
    {
      "cell_type": "code",
      "metadata": {
        "id": "Ku2q56otiyaL",
        "colab_type": "code",
        "colab": {
          "base_uri": "https://localhost:8080/",
          "height": 111
        },
        "outputId": "a47f05ab-6221-43bc-d738-ef403c18e09c"
      },
      "source": [
        "#matrice de confusion \n",
        "cm =np.array(confusion_matrix(y_test, y_pred, labels =[1,0]))\n",
        "confusion = pd.DataFrame(cm, index=['tested positive', 'tested negative'], columns=['predicted positive','predicted negative'])\n",
        "confusion "
      ],
      "execution_count": 46,
      "outputs": [
        {
          "output_type": "execute_result",
          "data": {
            "text/html": [
              "<div>\n",
              "<style scoped>\n",
              "    .dataframe tbody tr th:only-of-type {\n",
              "        vertical-align: middle;\n",
              "    }\n",
              "\n",
              "    .dataframe tbody tr th {\n",
              "        vertical-align: top;\n",
              "    }\n",
              "\n",
              "    .dataframe thead th {\n",
              "        text-align: right;\n",
              "    }\n",
              "</style>\n",
              "<table border=\"1\" class=\"dataframe\">\n",
              "  <thead>\n",
              "    <tr style=\"text-align: right;\">\n",
              "      <th></th>\n",
              "      <th>predicted positive</th>\n",
              "      <th>predicted negative</th>\n",
              "    </tr>\n",
              "  </thead>\n",
              "  <tbody>\n",
              "    <tr>\n",
              "      <th>tested positive</th>\n",
              "      <td>3126</td>\n",
              "      <td>30</td>\n",
              "    </tr>\n",
              "    <tr>\n",
              "      <th>tested negative</th>\n",
              "      <td>24</td>\n",
              "      <td>1820</td>\n",
              "    </tr>\n",
              "  </tbody>\n",
              "</table>\n",
              "</div>"
            ],
            "text/plain": [
              "                 predicted positive  predicted negative\n",
              "tested positive                3126                  30\n",
              "tested negative                  24                1820"
            ]
          },
          "metadata": {
            "tags": []
          },
          "execution_count": 46
        }
      ]
    },
    {
      "cell_type": "code",
      "metadata": {
        "id": "64TY06wwnx5L",
        "colab_type": "code",
        "colab": {
          "base_uri": "https://localhost:8080/",
          "height": 285
        },
        "outputId": "4dc1249b-c914-4b7c-a132-d92bf5985ee8"
      },
      "source": [
        "import seaborn as sns \n",
        "sns.heatmap(confusion, annot= True)"
      ],
      "execution_count": 47,
      "outputs": [
        {
          "output_type": "execute_result",
          "data": {
            "text/plain": [
              "<matplotlib.axes._subplots.AxesSubplot at 0x7fd1d427df28>"
            ]
          },
          "metadata": {
            "tags": []
          },
          "execution_count": 47
        },
        {
          "output_type": "display_data",
          "data": {
            "image/png": "[encoded data removed]",
            "text/plain": [
              "<Figure size 432x288 with 2 Axes>"
            ]
          },
          "metadata": {
            "tags": [],
            "needs_background": "light"
          }
        }
      ]
    },
    {
      "cell_type": "code",
      "metadata": {
        "id": "XKQ7dhDO7u0t",
        "colab_type": "code",
        "colab": {}
      },
      "source": [
        ""
      ],
      "execution_count": null,
      "outputs": []
    }
  ]
}