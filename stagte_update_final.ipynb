{
  "nbformat": 4,
  "nbformat_minor": 0,
  "metadata": {
    "kernelspec": {
      "display_name": "Python 3",
      "language": "python",
      "name": "python3"
    },
    "language_info": {
      "codemirror_mode": {
        "name": "ipython",
        "version": 3
      },
      "file_extension": ".py",
      "mimetype": "text/x-python",
      "name": "python",
      "nbconvert_exporter": "python",
      "pygments_lexer": "ipython3",
      "version": "3.6.10"
    },
    "colab": {
      "name": "stagte_update.ipynb",
      "provenance": [],
      "collapsed_sections": []
    }
  },
  "cells": [
    {
      "cell_type": "code",
      "metadata": {
        "id": "Flr4k0u1dR_d",
        "colab_type": "code",
        "colab": {}
      },
      "source": [
        "import random\n",
        "from sklearn.model_selection import train_test_split\n",
        "from sklearn import svm\n",
        "from sklearn import metrics\n"
      ],
      "execution_count": null,
      "outputs": []
    },
    {
      "cell_type": "code",
      "metadata": {
        "id": "GWaD1kkXnyV7",
        "colab_type": "code",
        "colab": {}
      },
      "source": [
        "import pandas as pd\n",
        "cols_list = ['temperature', 'tousse', 'rithme respiratoire']\n",
        "symptomes = pd.read_csv ('symptomes_dataset.csv', usecols=cols_list)\n",
        "results = pd.read_csv ('symptomes_dataset.csv', usecols=['target'])\n"
      ],
      "execution_count": null,
      "outputs": []
    },
    {
      "cell_type": "code",
      "metadata": {
        "id": "xgYNme_jdR_h",
        "colab_type": "code",
        "colab": {}
      },
      "source": [
        "'''\n",
        "symptoms = []\n",
        "results = []\n",
        "for i in range(0, 25000):\n",
        "    temperature = random.uniform(36.1, 40)\n",
        "    touse = random.choice([0, 1])\n",
        "    rythm_respiratoire = random.uniform(18, 23)\n",
        "    covid_19 = 0\n",
        "    if temperature > 37.5:\n",
        "        if touse or (rythm_respiratoire > 20):\n",
        "            covid_19 = 1\n",
        "    elif touse and rythm_respiratoire > 20:\n",
        "        covid_19 = 1\n",
        "\n",
        "    # print(\"{},{},{},{}\".format(temperature, touse, rythm_respiratoire, covid_19))\n",
        "    symptoms.append([temperature, touse, rythm_respiratoire])\n",
        "    results.append(covid_19)\n",
        "print(symptoms)\n",
        "\n",
        "'''"
      ],
      "execution_count": null,
      "outputs": []
    },
    {
      "cell_type": "code",
      "metadata": {
        "id": "wO16xtMamMb-",
        "colab_type": "code",
        "colab": {}
      },
      "source": [
        "#turn our data to csv file \n",
        "'''\n",
        "import csv\n",
        "\n",
        "with open(\"symptomes_dataset.csv\", \"w\", newline=\"\") as f:\n",
        "    writer = csv.writer(f)\n",
        "    writer.writerow(['temperature', 'tousse', 'rithme respiratoire'])\n",
        "    writer.writerows(symptoms)\n",
        "'''"
      ],
      "execution_count": null,
      "outputs": []
    },
    {
      "cell_type": "code",
      "metadata": {
        "id": "RIwbXIlUaQ4G",
        "colab_type": "code",
        "colab": {}
      },
      "source": [
        "#add target to csv file \n",
        "'''\n",
        "df = pd.read_csv(\"symptomes_dataset.csv\")\n",
        "df[\"target\"] = results \n",
        "df.to_csv(\"symptomes_dataset.csv\", index=False)\n",
        "'''"
      ],
      "execution_count": null,
      "outputs": []
    },
    {
      "cell_type": "code",
      "metadata": {
        "id": "0uulV5QrdR_k",
        "colab_type": "code",
        "colab": {
          "base_uri": "https://localhost:8080/",
          "height": 35
        },
        "outputId": "4f2b8041-8430-4997-eb1c-d8a27f2d2260"
      },
      "source": [
        "'''\n",
        "for i in range(0, len(symptoms)):\n",
        "  print(\"{},{},{},{}\".format(symptoms[i][0], symptoms[i][1], symptoms[i][2], results[i]))\n",
        "'''"
      ],
      "execution_count": null,
      "outputs": [
        {
          "output_type": "execute_result",
          "data": {
            "application/vnd.google.colaboratory.intrinsic+json": {
              "type": "string"
            },
            "text/plain": [
              "'\\nfor i in range(0, len(symptoms)):\\n  print(\"{},{},{},{}\".format(symptoms[i][0], symptoms[i][1], symptoms[i][2], results[i]))\\n'"
            ]
          },
          "metadata": {
            "tags": []
          },
          "execution_count": 65
        }
      ]
    },
    {
      "cell_type": "code",
      "metadata": {
        "id": "07ByRSgPdR_p",
        "colab_type": "code",
        "colab": {
          "base_uri": "https://localhost:8080/",
          "height": 34
        },
        "outputId": "ddb1be4c-5f09-4696-c1b9-504b02212ab8"
      },
      "source": [
        "X_train, X_test, y_train, y_test = train_test_split(symptoms, results, test_size=0.2,random_state=20) # 70% training and 30% test\n",
        "type(X_train[1][0])"
      ],
      "execution_count": null,
      "outputs": [
        {
          "output_type": "execute_result",
          "data": {
            "text/plain": [
              "float"
            ]
          },
          "metadata": {
            "tags": []
          },
          "execution_count": 78
        }
      ]
    },
    {
      "cell_type": "code",
      "metadata": {
        "id": "kbnIV-Nvlsra",
        "colab_type": "code",
        "colab": {
          "base_uri": "https://localhost:8080/",
          "height": 419
        },
        "outputId": "5395c080-101c-4cd4-8c27-0dfdc2fe0eeb"
      },
      "source": [
        "X_train_range = pd.DataFrame(X_train).max() - pd.DataFrame(X_train).min()\n",
        "#X_train_range\n",
        "X_train_scaled = (pd.DataFrame(X_train) - pd.DataFrame(X_train).min())/(X_train_range)\n",
        "#X_train_scaled"
      ],
      "execution_count": null,
      "outputs": [
        {
          "output_type": "execute_result",
          "data": {
            "text/html": [
              "<div>\n",
              "<style scoped>\n",
              "    .dataframe tbody tr th:only-of-type {\n",
              "        vertical-align: middle;\n",
              "    }\n",
              "\n",
              "    .dataframe tbody tr th {\n",
              "        vertical-align: top;\n",
              "    }\n",
              "\n",
              "    .dataframe thead th {\n",
              "        text-align: right;\n",
              "    }\n",
              "</style>\n",
              "<table border=\"1\" class=\"dataframe\">\n",
              "  <thead>\n",
              "    <tr style=\"text-align: right;\">\n",
              "      <th></th>\n",
              "      <th>0</th>\n",
              "      <th>1</th>\n",
              "      <th>2</th>\n",
              "    </tr>\n",
              "  </thead>\n",
              "  <tbody>\n",
              "    <tr>\n",
              "      <th>0</th>\n",
              "      <td>0.008312</td>\n",
              "      <td>0.0</td>\n",
              "      <td>0.445829</td>\n",
              "    </tr>\n",
              "    <tr>\n",
              "      <th>1</th>\n",
              "      <td>0.200752</td>\n",
              "      <td>0.0</td>\n",
              "      <td>0.978067</td>\n",
              "    </tr>\n",
              "    <tr>\n",
              "      <th>2</th>\n",
              "      <td>0.497547</td>\n",
              "      <td>1.0</td>\n",
              "      <td>0.505182</td>\n",
              "    </tr>\n",
              "    <tr>\n",
              "      <th>3</th>\n",
              "      <td>0.144528</td>\n",
              "      <td>0.0</td>\n",
              "      <td>0.807797</td>\n",
              "    </tr>\n",
              "    <tr>\n",
              "      <th>4</th>\n",
              "      <td>0.446882</td>\n",
              "      <td>0.0</td>\n",
              "      <td>0.299976</td>\n",
              "    </tr>\n",
              "    <tr>\n",
              "      <th>...</th>\n",
              "      <td>...</td>\n",
              "      <td>...</td>\n",
              "      <td>...</td>\n",
              "    </tr>\n",
              "    <tr>\n",
              "      <th>19995</th>\n",
              "      <td>0.012053</td>\n",
              "      <td>0.0</td>\n",
              "      <td>0.756290</td>\n",
              "    </tr>\n",
              "    <tr>\n",
              "      <th>19996</th>\n",
              "      <td>0.628781</td>\n",
              "      <td>1.0</td>\n",
              "      <td>0.344090</td>\n",
              "    </tr>\n",
              "    <tr>\n",
              "      <th>19997</th>\n",
              "      <td>0.543493</td>\n",
              "      <td>1.0</td>\n",
              "      <td>0.963963</td>\n",
              "    </tr>\n",
              "    <tr>\n",
              "      <th>19998</th>\n",
              "      <td>0.136449</td>\n",
              "      <td>1.0</td>\n",
              "      <td>0.255386</td>\n",
              "    </tr>\n",
              "    <tr>\n",
              "      <th>19999</th>\n",
              "      <td>0.828415</td>\n",
              "      <td>1.0</td>\n",
              "      <td>0.369900</td>\n",
              "    </tr>\n",
              "  </tbody>\n",
              "</table>\n",
              "<p>20000 rows × 3 columns</p>\n",
              "</div>"
            ],
            "text/plain": [
              "              0    1         2\n",
              "0      0.008312  0.0  0.445829\n",
              "1      0.200752  0.0  0.978067\n",
              "2      0.497547  1.0  0.505182\n",
              "3      0.144528  0.0  0.807797\n",
              "4      0.446882  0.0  0.299976\n",
              "...         ...  ...       ...\n",
              "19995  0.012053  0.0  0.756290\n",
              "19996  0.628781  1.0  0.344090\n",
              "19997  0.543493  1.0  0.963963\n",
              "19998  0.136449  1.0  0.255386\n",
              "19999  0.828415  1.0  0.369900\n",
              "\n",
              "[20000 rows x 3 columns]"
            ]
          },
          "metadata": {
            "tags": []
          },
          "execution_count": 79
        }
      ]
    },
    {
      "cell_type": "code",
      "metadata": {
        "id": "Ld1q4pbmdR_t",
        "colab_type": "code",
        "colab": {}
      },
      "source": [
        "#Create a svm Classifier\n",
        "clf = svm.SVC() # Linear Kernel"
      ],
      "execution_count": null,
      "outputs": []
    },
    {
      "cell_type": "code",
      "metadata": {
        "id": "JAiFjrN5dR_x",
        "colab_type": "code",
        "colab": {
          "base_uri": "https://localhost:8080/",
          "height": 139
        },
        "outputId": "2a314347-b65b-4b66-b72b-e8f27e262531"
      },
      "source": [
        "#Train the model using the training sets\n",
        "clf.fit(X_train_scaled, y_train)"
      ],
      "execution_count": null,
      "outputs": [
        {
          "output_type": "stream",
          "text": [
            "/usr/local/lib/python3.6/dist-packages/sklearn/utils/validation.py:760: DataConversionWarning: A column-vector y was passed when a 1d array was expected. Please change the shape of y to (n_samples, ), for example using ravel().\n",
            "  y = column_or_1d(y, warn=True)\n"
          ],
          "name": "stderr"
        },
        {
          "output_type": "execute_result",
          "data": {
            "text/plain": [
              "SVC(C=1.0, break_ties=False, cache_size=200, class_weight=None, coef0=0.0,\n",
              "    decision_function_shape='ovr', degree=3, gamma='scale', kernel='rbf',\n",
              "    max_iter=-1, probability=False, random_state=None, shrinking=True,\n",
              "    tol=0.001, verbose=False)"
            ]
          },
          "metadata": {
            "tags": []
          },
          "execution_count": 81
        }
      ]
    },
    {
      "cell_type": "code",
      "metadata": {
        "id": "b-wW2bbcmW5v",
        "colab_type": "code",
        "colab": {
          "base_uri": "https://localhost:8080/",
          "height": 419
        },
        "outputId": "40de8d97-f9ad-49f0-ab13-b23b904cc164"
      },
      "source": [
        "X_test_range = (pd.DataFrame(X_test) - pd.DataFrame(X_test).min()).max()\n",
        "#X_test_range\n",
        "X_test_scaled = (pd.DataFrame(X_test) - pd.DataFrame(X_test).min())/(X_test_range)\n",
        "#X_test_scaled"
      ],
      "execution_count": null,
      "outputs": [
        {
          "output_type": "execute_result",
          "data": {
            "text/html": [
              "<div>\n",
              "<style scoped>\n",
              "    .dataframe tbody tr th:only-of-type {\n",
              "        vertical-align: middle;\n",
              "    }\n",
              "\n",
              "    .dataframe tbody tr th {\n",
              "        vertical-align: top;\n",
              "    }\n",
              "\n",
              "    .dataframe thead th {\n",
              "        text-align: right;\n",
              "    }\n",
              "</style>\n",
              "<table border=\"1\" class=\"dataframe\">\n",
              "  <thead>\n",
              "    <tr style=\"text-align: right;\">\n",
              "      <th></th>\n",
              "      <th>0</th>\n",
              "      <th>1</th>\n",
              "      <th>2</th>\n",
              "    </tr>\n",
              "  </thead>\n",
              "  <tbody>\n",
              "    <tr>\n",
              "      <th>0</th>\n",
              "      <td>0.427187</td>\n",
              "      <td>0.0</td>\n",
              "      <td>0.738370</td>\n",
              "    </tr>\n",
              "    <tr>\n",
              "      <th>1</th>\n",
              "      <td>0.231406</td>\n",
              "      <td>0.0</td>\n",
              "      <td>0.096421</td>\n",
              "    </tr>\n",
              "    <tr>\n",
              "      <th>2</th>\n",
              "      <td>0.754229</td>\n",
              "      <td>1.0</td>\n",
              "      <td>0.847780</td>\n",
              "    </tr>\n",
              "    <tr>\n",
              "      <th>3</th>\n",
              "      <td>0.201280</td>\n",
              "      <td>1.0</td>\n",
              "      <td>0.255696</td>\n",
              "    </tr>\n",
              "    <tr>\n",
              "      <th>4</th>\n",
              "      <td>0.947355</td>\n",
              "      <td>0.0</td>\n",
              "      <td>0.676532</td>\n",
              "    </tr>\n",
              "    <tr>\n",
              "      <th>...</th>\n",
              "      <td>...</td>\n",
              "      <td>...</td>\n",
              "      <td>...</td>\n",
              "    </tr>\n",
              "    <tr>\n",
              "      <th>4995</th>\n",
              "      <td>0.119357</td>\n",
              "      <td>0.0</td>\n",
              "      <td>0.862937</td>\n",
              "    </tr>\n",
              "    <tr>\n",
              "      <th>4996</th>\n",
              "      <td>0.901132</td>\n",
              "      <td>1.0</td>\n",
              "      <td>0.854161</td>\n",
              "    </tr>\n",
              "    <tr>\n",
              "      <th>4997</th>\n",
              "      <td>0.257916</td>\n",
              "      <td>1.0</td>\n",
              "      <td>0.605124</td>\n",
              "    </tr>\n",
              "    <tr>\n",
              "      <th>4998</th>\n",
              "      <td>0.383956</td>\n",
              "      <td>1.0</td>\n",
              "      <td>0.962097</td>\n",
              "    </tr>\n",
              "    <tr>\n",
              "      <th>4999</th>\n",
              "      <td>0.050134</td>\n",
              "      <td>1.0</td>\n",
              "      <td>0.127691</td>\n",
              "    </tr>\n",
              "  </tbody>\n",
              "</table>\n",
              "<p>5000 rows × 3 columns</p>\n",
              "</div>"
            ],
            "text/plain": [
              "             0    1         2\n",
              "0     0.427187  0.0  0.738370\n",
              "1     0.231406  0.0  0.096421\n",
              "2     0.754229  1.0  0.847780\n",
              "3     0.201280  1.0  0.255696\n",
              "4     0.947355  0.0  0.676532\n",
              "...        ...  ...       ...\n",
              "4995  0.119357  0.0  0.862937\n",
              "4996  0.901132  1.0  0.854161\n",
              "4997  0.257916  1.0  0.605124\n",
              "4998  0.383956  1.0  0.962097\n",
              "4999  0.050134  1.0  0.127691\n",
              "\n",
              "[5000 rows x 3 columns]"
            ]
          },
          "metadata": {
            "tags": []
          },
          "execution_count": 82
        }
      ]
    },
    {
      "cell_type": "code",
      "metadata": {
        "id": "QvjC8eBsdR_0",
        "colab_type": "code",
        "colab": {}
      },
      "source": [
        "#Predict the response for test dataset\n",
        "y_pred = clf.predict(X_test_scaled)"
      ],
      "execution_count": null,
      "outputs": []
    },
    {
      "cell_type": "code",
      "metadata": {
        "id": "S3Mx7g5HdR_3",
        "colab_type": "code",
        "colab": {
          "base_uri": "https://localhost:8080/",
          "height": 34
        },
        "outputId": "c3f82ab2-a8e7-4bb9-f4c8-874463bf5d76"
      },
      "source": [
        "print(\"Accuracy:\",metrics.accuracy_score(y_test, y_pred))\n"
      ],
      "execution_count": null,
      "outputs": [
        {
          "output_type": "stream",
          "text": [
            "Accuracy: 0.9892\n"
          ],
          "name": "stdout"
        }
      ]
    },
    {
      "cell_type": "code",
      "metadata": {
        "id": "TgPLC3E6dR_6",
        "colab_type": "code",
        "colab": {}
      },
      "source": [
        "from sklearn.metrics import classification_report, confusion_matrix\n",
        "import numpy as np\n",
        "import pandas as pd"
      ],
      "execution_count": 85,
      "outputs": []
    },
    {
      "cell_type": "code",
      "metadata": {
        "id": "Ku2q56otiyaL",
        "colab_type": "code",
        "colab": {
          "base_uri": "https://localhost:8080/",
          "height": 111
        },
        "outputId": "fe8a9ad8-b5c4-4f38-f7e7-97fff3b754ec"
      },
      "source": [
        "cm =np.array(confusion_matrix(y_test, y_pred, labels =[1,0]))\n",
        "confusion = pd.DataFrame(cm, index=['is covid19', 'is healthy'], columns=['predicted_covid19','predicted_healthy'])\n",
        "confusion "
      ],
      "execution_count": 86,
      "outputs": [
        {
          "output_type": "execute_result",
          "data": {
            "text/html": [
              "<div>\n",
              "<style scoped>\n",
              "    .dataframe tbody tr th:only-of-type {\n",
              "        vertical-align: middle;\n",
              "    }\n",
              "\n",
              "    .dataframe tbody tr th {\n",
              "        vertical-align: top;\n",
              "    }\n",
              "\n",
              "    .dataframe thead th {\n",
              "        text-align: right;\n",
              "    }\n",
              "</style>\n",
              "<table border=\"1\" class=\"dataframe\">\n",
              "  <thead>\n",
              "    <tr style=\"text-align: right;\">\n",
              "      <th></th>\n",
              "      <th>predicted_covid19</th>\n",
              "      <th>predicted_healthy</th>\n",
              "    </tr>\n",
              "  </thead>\n",
              "  <tbody>\n",
              "    <tr>\n",
              "      <th>is covid19</th>\n",
              "      <td>3126</td>\n",
              "      <td>30</td>\n",
              "    </tr>\n",
              "    <tr>\n",
              "      <th>is healthy</th>\n",
              "      <td>24</td>\n",
              "      <td>1820</td>\n",
              "    </tr>\n",
              "  </tbody>\n",
              "</table>\n",
              "</div>"
            ],
            "text/plain": [
              "            predicted_covid19  predicted_healthy\n",
              "is covid19               3126                 30\n",
              "is healthy                 24               1820"
            ]
          },
          "metadata": {
            "tags": []
          },
          "execution_count": 86
        }
      ]
    },
    {
      "cell_type": "code",
      "metadata": {
        "id": "64TY06wwnx5L",
        "colab_type": "code",
        "colab": {
          "base_uri": "https://localhost:8080/",
          "height": 337
        },
        "outputId": "86689c6b-cc75-4114-c9eb-368475a5925f"
      },
      "source": [
        "import seaborn as sns \n",
        "sns.heatmap(confusion, annot= True)"
      ],
      "execution_count": 87,
      "outputs": [
        {
          "output_type": "stream",
          "text": [
            "/usr/local/lib/python3.6/dist-packages/statsmodels/tools/_testing.py:19: FutureWarning: pandas.util.testing is deprecated. Use the functions in the public API at pandas.testing instead.\n",
            "  import pandas.util.testing as tm\n"
          ],
          "name": "stderr"
        },
        {
          "output_type": "execute_result",
          "data": {
            "text/plain": [
              "<matplotlib.axes._subplots.AxesSubplot at 0x7f7069898710>"
            ]
          },
          "metadata": {
            "tags": []
          },
          "execution_count": 87
        },
        {
          "output_type": "display_data",
          "data": {
            "image/png": "[encoded data removed]",
            "text/plain": [
              "<Figure size 432x288 with 2 Axes>"
            ]
          },
          "metadata": {
            "tags": [],
            "needs_background": "light"
          }
        }
      ]
    },
    {
      "cell_type": "code",
      "metadata": {
        "id": "08LM_8a3oG-5",
        "colab_type": "code",
        "colab": {}
      },
      "source": [
        ""
      ],
      "execution_count": null,
      "outputs": []
    }
  ]
}